{
 "cells": [
  {
   "cell_type": "markdown",
   "metadata": {},
   "source": [
    "#MCMC"
   ]
  },
  {
   "cell_type": "code",
   "execution_count": 2,
   "metadata": {
    "collapsed": false
   },
   "outputs": [],
   "source": [
    "import numpy as np \n",
    "import matplotlib.pyplot as plt\n",
    "from mcmc import mcmc, model\n",
    "\n",
    "plt.rc('text', usetex=True, fontsize=24)"
   ]
  },
  {
   "cell_type": "code",
   "execution_count": 3,
   "metadata": {
    "collapsed": true
   },
   "outputs": [],
   "source": [
    "def radius(data):\n",
    "    E_pot = data[:,6]\n",
    "    min_pot = np.argmin(E_pot)\n",
    "    print \"min_pot\", min_pot\n",
    "    x = data[:,0] - data[min_pot, 0]\n",
    "    y = data[:,1] - data[min_pot, 1]\n",
    "    z = data[:,2] - data[min_pot, 2]\n",
    "    r = np.sqrt(x**2 + y**2 +z**2)\n",
    "    r = np.sort(r)\n",
    "    return r[1:]"
   ]
  },
  {
   "cell_type": "markdown",
   "metadata": {},
   "source": [
    "##data"
   ]
  },
  {
   "cell_type": "code",
   "execution_count": 4,
   "metadata": {
    "collapsed": true
   },
   "outputs": [],
   "source": [
    "n_bodies = 1000\n",
    "\n",
    "data_final = np.loadtxt('../state_final_1000.dat'.format(n_bodies))"
   ]
  },
  {
   "cell_type": "code",
   "execution_count": 5,
   "metadata": {
    "collapsed": false
   },
   "outputs": [
    {
     "name": "stdout",
     "output_type": "stream",
     "text": [
      "min_pot 187\n"
     ]
    }
   ],
   "source": [
    "#x\n",
    "r_final = radius(data_final)\n",
    "log_r_final = np.log10(r_final)\n",
    "\n",
    "h, c = np.histogram(log_r_final, bins=10)\n",
    "log_r_center = 0.5 * (c[1:]+c[:-1])\n",
    "\n",
    "#y\n",
    "log_rho = np.log10(h)-2.0*log_r_center #log(rho) = log(m)-2*log(r)"
   ]
  },
  {
   "cell_type": "code",
   "execution_count": 6,
   "metadata": {
    "collapsed": false
   },
   "outputs": [],
   "source": [
    "plt.figure(figsize=(12,8))\n",
    "\n",
    "plt.plot(log_r_center, log_rho, label='$\\mathrm{data}$')\n",
    "\n",
    "plt.xlabel(r'$\\log{(r)}$')\n",
    "plt.ylabel(r'$\\log{(\\rho (r))}$')\n",
    "plt.legend(loc='lower left')\n",
    "\n",
    "plt.savefig('density_profile_data.png')"
   ]
  },
  {
   "cell_type": "markdown",
   "metadata": {},
   "source": [
    "##fit"
   ]
  },
  {
   "cell_type": "markdown",
   "metadata": {},
   "source": [
    "#$\\rho(r) = \\frac{\\rho_0}{(\\frac{r}{r_c})^\\alpha (1+\\frac{r}{r_c})^\\beta}$"
   ]
  },
  {
   "cell_type": "code",
   "execution_count": 7,
   "metadata": {
    "collapsed": false
   },
   "outputs": [],
   "source": [
    "log_rho_0_0 = 4\n",
    "log_r_c_0 = -1.0\n",
    "alpha_0 = 1\n",
    "beta_0 = 2\n",
    "\n",
    "fit_0 = model(log_r_center, log_rho_0_0, log_r_c_0, alpha_0, beta_0)"
   ]
  },
  {
   "cell_type": "code",
   "execution_count": 8,
   "metadata": {
    "collapsed": false
   },
   "outputs": [],
   "source": [
    "plt.figure(figsize=(12,8))\n",
    "\n",
    "plt.plot(log_r_center, log_rho, label='$\\mathrm{data}$')\n",
    "plt.plot(log_r_center, fit_0, label='$\\mathrm{first\\;guess}$')\n",
    "\n",
    "plt.xlabel(r'$\\log{(r)}$')\n",
    "plt.ylabel(r'$\\log{(\\rho (r))}$')\n",
    "plt.legend(loc='lower left')\n",
    "\n",
    "plt.savefig('density_profile_firstguess.png')"
   ]
  },
  {
   "cell_type": "code",
   "execution_count": 9,
   "metadata": {
    "collapsed": false
   },
   "outputs": [],
   "source": [
    "log_rho_0, log_r_c, alpha, beta, log_rho_0_std, log_r_c_std, alpha_std, beta_std = mcmc(log_r_center, log_rho)"
   ]
  },
  {
   "cell_type": "code",
   "execution_count": 10,
   "metadata": {
    "collapsed": false
   },
   "outputs": [],
   "source": [
    "fit = model(log_r_center, log_rho_0, log_r_c, alpha, beta)"
   ]
  },
  {
   "cell_type": "code",
   "execution_count": 11,
   "metadata": {
    "collapsed": true
   },
   "outputs": [],
   "source": [
    "plt.figure(figsize=(12,8))\n",
    "\n",
    "plt.plot(log_r_center, log_rho, label='$\\mathrm{data}$')\n",
    "plt.plot(log_r_center, fit, label='$\\mathrm{fit}$')\n",
    "\n",
    "plt.xlabel(r'$\\log{(r)}$')\n",
    "plt.ylabel(r'$\\log{(\\rho (r))}$')\n",
    "plt.legend(loc='lower left')\n",
    "\n",
    "plt.savefig('density_profile_fit.png')"
   ]
  },
  {
   "cell_type": "code",
   "execution_count": 12,
   "metadata": {
    "collapsed": false
   },
   "outputs": [
    {
     "name": "stdout",
     "output_type": "stream",
     "text": [
      "log(rho_0) = 3.91842478257 +/- 1.24048746664\n",
      "log(r_c) = -0.844658877006 +/- 0.860171026639\n",
      "alpha = 0.711433563074 +/- 0.62941523571\n",
      "beta = 1.32012758054 +/- 0.582821075934\n"
     ]
    }
   ],
   "source": [
    "print('log(rho_0) = {} +/- {}'.format(log_rho_0, log_rho_0_std))\n",
    "print('log(r_c) = {} +/- {}'.format(log_r_c, log_r_c_std))\n",
    "print('alpha = {} +/- {}'.format(alpha, alpha_std))\n",
    "print('beta = {} +/- {}'.format(beta, beta_std))"
   ]
  },
  {
   "cell_type": "code",
   "execution_count": null,
   "metadata": {
    "collapsed": true
   },
   "outputs": [],
   "source": []
  },
  {
   "cell_type": "code",
   "execution_count": null,
   "metadata": {
    "collapsed": true
   },
   "outputs": [],
   "source": []
  }
 ],
 "metadata": {
  "kernelspec": {
   "display_name": "Python 2",
   "language": "python",
   "name": "python2"
  },
  "language_info": {
   "codemirror_mode": {
    "name": "ipython",
    "version": 2
   },
   "file_extension": ".py",
   "mimetype": "text/x-python",
   "name": "python",
   "nbconvert_exporter": "python",
   "pygments_lexer": "ipython2",
   "version": "2.7.9"
  }
 },
 "nbformat": 4,
 "nbformat_minor": 0
}
