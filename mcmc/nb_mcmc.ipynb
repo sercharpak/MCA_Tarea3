{
 "cells": [
  {
   "cell_type": "markdown",
   "metadata": {},
   "source": [
    "#MCMC"
   ]
  },
  {
   "cell_type": "markdown",
   "metadata": {},
   "source": [
    "#$\\rho(r) = \\frac{\\rho_0}{(\\frac{r}{r_c})^\\alpha (1+\\frac{r}{r_c})^\\beta}$"
   ]
  },
  {
   "cell_type": "code",
   "execution_count": 1,
   "metadata": {
    "collapsed": false
   },
   "outputs": [],
   "source": [
    "import numpy as np \n",
    "import matplotlib.pyplot as plt\n",
    "from mcmc import mcmc, model"
   ]
  },
  {
   "cell_type": "code",
   "execution_count": 2,
   "metadata": {
    "collapsed": false
   },
   "outputs": [],
   "source": [
    "rho_0_0 = 3\n",
    "r_c_0 = 10.0\n",
    "alpha_0 = 1\n",
    "beta_0 = 2"
   ]
  },
  {
   "cell_type": "code",
   "execution_count": 3,
   "metadata": {
    "collapsed": true
   },
   "outputs": [],
   "source": [
    "data = np.loadtxt('state_4999_1000.dat')\n",
    "x = data[:,0]\n",
    "y = data[:,1]\n",
    "z = data[:,2]\n",
    "\n",
    "p = data[:,6]\n",
    "k = data[:,7]\n",
    "\n",
    "N = len(x)"
   ]
  },
  {
   "cell_type": "markdown",
   "metadata": {},
   "source": [
    "##Desde el Centro de Masa"
   ]
  },
  {
   "cell_type": "code",
   "execution_count": 4,
   "metadata": {
    "collapsed": true
   },
   "outputs": [],
   "source": [
    "cm_x = np.sum(x)/N\n",
    "cm_y = np.sum(y)/N\n",
    "cm_z = np.sum(z)/N\n",
    "\n",
    "x_new = x-cm_x\n",
    "y_new = y-cm_y\n",
    "z_new = z-cm_z"
   ]
  },
  {
   "cell_type": "code",
   "execution_count": 5,
   "metadata": {
    "collapsed": false
   },
   "outputs": [],
   "source": [
    "d2 = x_new**2 + y_new**2 + z_new**2\n",
    "d = np.array([np.sqrt(d2i) for d2i in d2])"
   ]
  },
  {
   "cell_type": "code",
   "execution_count": 6,
   "metadata": {
    "collapsed": false
   },
   "outputs": [],
   "source": [
    "n = 100\n",
    "\n",
    "r = np.logspace(np.log10(np.min(d)), np.log10(np.max(d)), n)\n",
    "rho = np.zeros(n)"
   ]
  },
  {
   "cell_type": "code",
   "execution_count": 7,
   "metadata": {
    "collapsed": false
   },
   "outputs": [],
   "source": [
    "for i in range(n):\n",
    "    r_i = r[i]\n",
    "    vol = (4.0*np.pi*r_i**3.0)/3.0\n",
    "    \n",
    "    inds = np.where(d<r_i)[0]\n",
    "    rho[i] = len(inds)/vol"
   ]
  },
  {
   "cell_type": "code",
   "execution_count": 9,
   "metadata": {
    "collapsed": false
   },
   "outputs": [],
   "source": [
    "plt.semilogx(r, rho)\n",
    "plt.savefig('rho_data_cm.png')"
   ]
  },
  {
   "cell_type": "markdown",
   "metadata": {
    "collapsed": true
   },
   "source": [
    "##Desde el punto de minimo potencial"
   ]
  },
  {
   "cell_type": "code",
   "execution_count": 16,
   "metadata": {
    "collapsed": false
   },
   "outputs": [],
   "source": [
    "minp_ind = np.argmin(p)\n",
    "minp_x = x[minp_ind]\n",
    "minp_y = y[minp_ind]\n",
    "minp_z = z[minp_ind]\n",
    "\n",
    "x_new = x-minp_x\n",
    "y_new = y-minp_y\n",
    "z_new = z-minp_z"
   ]
  },
  {
   "cell_type": "code",
   "execution_count": 17,
   "metadata": {
    "collapsed": false
   },
   "outputs": [],
   "source": [
    "d2 = x_new**2 + y_new**2 + z_new**2\n",
    "d = np.array([np.sqrt(d2i) for d2i in d2])"
   ]
  },
  {
   "cell_type": "code",
   "execution_count": 19,
   "metadata": {
    "collapsed": false
   },
   "outputs": [],
   "source": [
    "n = 100\n",
    "\n",
    "r = np.logspace(np.log10(np.sort(d)[1]), np.log10(np.max(d)), n)\n",
    "rho = np.zeros(n)"
   ]
  },
  {
   "cell_type": "code",
   "execution_count": 20,
   "metadata": {
    "collapsed": false
   },
   "outputs": [],
   "source": [
    "for i in range(n):\n",
    "    r_i = r[i]\n",
    "    vol = (4.0*np.pi*r_i**3.0)/3.0\n",
    "    \n",
    "    inds = np.where(d<r_i)[0]\n",
    "    rho[i] = len(inds)/vol"
   ]
  },
  {
   "cell_type": "code",
   "execution_count": 21,
   "metadata": {
    "collapsed": false
   },
   "outputs": [],
   "source": [
    "plt.semilogx(r, rho)\n",
    "plt.savefig('rho_data_minp.png')"
   ]
  },
  {
   "cell_type": "code",
   "execution_count": null,
   "metadata": {
    "collapsed": true
   },
   "outputs": [],
   "source": []
  }
 ],
 "metadata": {
  "kernelspec": {
   "display_name": "Python 2",
   "language": "python",
   "name": "python2"
  },
  "language_info": {
   "codemirror_mode": {
    "name": "ipython",
    "version": 2
   },
   "file_extension": ".py",
   "mimetype": "text/x-python",
   "name": "python",
   "nbconvert_exporter": "python",
   "pygments_lexer": "ipython2",
   "version": "2.7.9"
  }
 },
 "nbformat": 4,
 "nbformat_minor": 0
}
